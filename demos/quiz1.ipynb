{
 "cells": [
  {
   "cell_type": "code",
   "execution_count": null,
   "id": "9bc87da4-cf19-42ed-89cf-b5f8ae345b95",
   "metadata": {},
   "outputs": [],
   "source": [
    "from datascience import *\n",
    "import numpy as np\n",
    "\n",
    "%matplotlib inline\n",
    "import matplotlib.pyplot as plots\n",
    "plots.style.use('fivethirtyeight')\n",
    "\n",
    "# Always include the https://  and the final /\n",
    "path = 'https://github.com/oregon-data-science/DSCI101/raw/main/data/'\n",
    "\n",
    "'import completed'"
   ]
  },
  {
   "cell_type": "code",
   "execution_count": null,
   "id": "10030fa5-13f3-4ec0-b193-04d89dbf22aa",
   "metadata": {},
   "outputs": [],
   "source": [
    "quiz = Table.read_table(path + \"quiz1_fall_2022.csv\")\n",
    "quiz"
   ]
  },
  {
   "cell_type": "code",
   "execution_count": null,
   "id": "942da779-b33d-4afe-8478-1c1c922a64e4",
   "metadata": {},
   "outputs": [],
   "source": [
    "my_bins = np.arange(0, 5, 0.5)\n",
    "my_bins"
   ]
  },
  {
   "cell_type": "code",
   "execution_count": null,
   "id": "f192d4b8-d780-4b01-bc40-1c3adbc7099a",
   "metadata": {},
   "outputs": [],
   "source": [
    "quiz.hist(\"quiz1\", bins=my_bins)\n",
    "plots.axvline(np.median(quiz.column(\"quiz1\")), color='k', linestyle='dashed', linewidth=1)\n",
    "plots.axvline(np.mean(quiz.column(\"quiz1\")), color='red', linestyle='dashed', linewidth=1)"
   ]
  }
 ],
 "metadata": {
  "kernelspec": {
   "display_name": "Python 3 (ipykernel)",
   "language": "python",
   "name": "python3"
  },
  "language_info": {
   "codemirror_mode": {
    "name": "ipython",
    "version": 3
   },
   "file_extension": ".py",
   "mimetype": "text/x-python",
   "name": "python",
   "nbconvert_exporter": "python",
   "pygments_lexer": "ipython3",
   "version": "3.10.6"
  }
 },
 "nbformat": 4,
 "nbformat_minor": 5
}
