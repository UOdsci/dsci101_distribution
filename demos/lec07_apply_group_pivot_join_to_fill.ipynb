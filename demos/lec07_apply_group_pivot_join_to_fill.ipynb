{
 "cells": [
  {
   "cell_type": "code",
   "execution_count": null,
   "metadata": {},
   "outputs": [],
   "source": [
    "from datascience import *\n",
    "import numpy as np\n",
    "\n",
    "%matplotlib inline\n",
    "import matplotlib.pyplot as plots\n",
    "plots.style.use('fivethirtyeight')\n",
    "\n",
    "path = 'https://github.com/oregon-data-science/DSCI101/raw/main/data/'\n",
    "\n",
    "'imports complete'"
   ]
  },
  {
   "cell_type": "markdown",
   "metadata": {},
   "source": [
    "## Apply"
   ]
  },
  {
   "cell_type": "code",
   "execution_count": null,
   "metadata": {},
   "outputs": [],
   "source": [
    "## You become very interested in the recreating The Office interactions\n",
    "\n",
    "staff = Table().with_columns(\n",
    "    'Employee', make_array('Jim', 'Dwight', 'Michael', 'Creed'),\n",
    "    'Birth Year', make_array(1985, 1988, 1967, 1904)\n",
    ")\n",
    "staff"
   ]
  },
  {
   "cell_type": "code",
   "execution_count": null,
   "metadata": {},
   "outputs": [],
   "source": [
    "## a function for introducing the staff to \"Dunder Mifflin\"\n",
    "def greeting(person):\n",
    "    return 'Dunder Mifflin, this is ' + person"
   ]
  },
  {
   "cell_type": "code",
   "execution_count": null,
   "metadata": {},
   "outputs": [],
   "source": [
    "greeting('Pam')"
   ]
  },
  {
   "cell_type": "code",
   "execution_count": null,
   "metadata": {},
   "outputs": [],
   "source": [
    "greeting('Erin')"
   ]
  },
  {
   "cell_type": "code",
   "execution_count": null,
   "metadata": {},
   "outputs": [],
   "source": [
    "## greet all the staff using apply, tell apply which function to use (greeting) and then any arguments to that function ('Employee')\n",
    "staff..."
   ]
  },
  {
   "cell_type": "code",
   "execution_count": null,
   "metadata": {},
   "outputs": [],
   "source": [
    "## A function for returning the age of each employee\n",
    "def name_and_age(name, year):\n",
    "    age = 2022 - year\n",
    "    return name + ' is ' + str(age)"
   ]
  },
  {
   "cell_type": "code",
   "execution_count": null,
   "metadata": {},
   "outputs": [],
   "source": [
    "# calculate the age of the staff using apply, tell apply which function to use (name_and_age) and then any arguments to that function ('Employee', 'Birth year')\n",
    "staff.apply..."
   ]
  },
  {
   "cell_type": "markdown",
   "metadata": {},
   "source": [
    "## Grouping by One Column ##"
   ]
  },
  {
   "cell_type": "code",
   "execution_count": null,
   "metadata": {},
   "outputs": [],
   "source": [
    "cones = Table.read_table(path + 'cones.csv')"
   ]
  },
  {
   "cell_type": "code",
   "execution_count": null,
   "metadata": {},
   "outputs": [],
   "source": [
    "cones"
   ]
  },
  {
   "cell_type": "code",
   "execution_count": null,
   "metadata": {},
   "outputs": [],
   "source": [
    "## group by \"Color\", take the count of the number of rows in each catagory (default)\n",
    "cones.group..."
   ]
  },
  {
   "cell_type": "code",
   "execution_count": null,
   "metadata": {
    "scrolled": true
   },
   "outputs": [],
   "source": [
    "##  take the average by \"Color\", need to drop \"Flavor\" because its a string, second argument is the function you want to do by group\n",
    "cones.drop('Flavor').group..."
   ]
  },
  {
   "cell_type": "code",
   "execution_count": null,
   "metadata": {},
   "outputs": [],
   "source": [
    "## the min by color \n",
    "cones.drop('Flavor').group..."
   ]
  },
  {
   "cell_type": "code",
   "execution_count": null,
   "metadata": {},
   "outputs": [],
   "source": [
    "## the sum by color\n",
    "cones.drop('Flavor').group..."
   ]
  },
  {
   "cell_type": "markdown",
   "metadata": {},
   "source": [
    "## Grouping By One Column: Welcome Survey ##"
   ]
  },
  {
   "cell_type": "code",
   "execution_count": null,
   "metadata": {},
   "outputs": [],
   "source": [
    "## Fun survey from a data collected from a past data science class\n",
    "survey = Table.read_table(path + 'welcome_survey_v2.csv')\n",
    "survey "
   ]
  },
  {
   "cell_type": "code",
   "execution_count": null,
   "metadata": {},
   "outputs": [],
   "source": [
    "## Let's take the average of all the columns by year in school \"Year\" \n",
    "survey.group..."
   ]
  },
  {
   "cell_type": "code",
   "execution_count": null,
   "metadata": {},
   "outputs": [],
   "source": [
    "## The average by \"Extraversion\"\n",
    "## need to drop the year column\n",
    "by_extra = survey.drop(\"Year average\").group...\n",
    "by_extra"
   ]
  },
  {
   "cell_type": "code",
   "execution_count": null,
   "metadata": {},
   "outputs": [],
   "source": [
    "## line plot\n",
    "by_extra.plot('Extraversion') "
   ]
  },
  {
   "cell_type": "code",
   "execution_count": null,
   "metadata": {
    "scrolled": true
   },
   "outputs": [],
   "source": [
    "by_extra.select(\"Extraversion\",\"Hours of sleep average\").plot('Extraversion')"
   ]
  },
  {
   "cell_type": "markdown",
   "metadata": {},
   "source": [
    "## Grouping by Two Columns ##"
   ]
  },
  {
   "cell_type": "code",
   "execution_count": null,
   "metadata": {},
   "outputs": [],
   "source": [
    "survey.show(5)"
   ]
  },
  {
   "cell_type": "code",
   "execution_count": null,
   "metadata": {},
   "outputs": [],
   "source": [
    "survey.group(['Year','Extraversion']).show()"
   ]
  },
  {
   "cell_type": "markdown",
   "metadata": {},
   "source": [
    "# Lists"
   ]
  },
  {
   "cell_type": "code",
   "execution_count": null,
   "metadata": {},
   "outputs": [],
   "source": [
    "## we can stick any types of data we want to in a list"
   ]
  },
  {
   "cell_type": "code",
   "execution_count": null,
   "metadata": {},
   "outputs": [],
   "source": [
    "[1, 5, 'hello', 5.0]"
   ]
  },
  {
   "cell_type": "code",
   "execution_count": null,
   "metadata": {},
   "outputs": [],
   "source": [
    "[1, 5, 'hello', 5.0, make_array(1,2,3)]"
   ]
  },
  {
   "cell_type": "code",
   "execution_count": null,
   "metadata": {},
   "outputs": [],
   "source": [
    "## useful for creating tables by row , though this would be rather tedious \n",
    "drinks = Table(['Drink', 'Cafe', 'Price'])\n",
    "drinks"
   ]
  },
  {
   "cell_type": "code",
   "execution_count": null,
   "metadata": {},
   "outputs": [],
   "source": [
    "drinks = drinks.with_rows([\n",
    "    ['Milk Tea', 'The Rabbit Hole', 5.5],\n",
    "    ['Espresso', 'Vero',  1.75],\n",
    "    ['Espresso', 'Hideaway',  1.50],\n",
    "    ['Latte',    'Provisions',  5.25],\n",
    "    ['Mocha',    'Provisions',  5.50],\n",
    "    ['Espresso', 'Noisette',   2],\n",
    "    ['Mocha',    'Hideaway',  5.50],\n",
    "])\n",
    "drinks"
   ]
  },
  {
   "cell_type": "code",
   "execution_count": null,
   "metadata": {},
   "outputs": [],
   "source": [
    "# What if we want to add a new row to an already existing table? Create a new list for a Cafe Roma Latte worth $5 and add it to drinks.\n",
    "roma = [...]\n",
    "drinks = ...\n",
    "drinks"
   ]
  },
  {
   "cell_type": "markdown",
   "metadata": {},
   "source": [
    "## Pivot Tables"
   ]
  },
  {
   "cell_type": "code",
   "execution_count": null,
   "metadata": {},
   "outputs": [],
   "source": [
    "survey.pivot('Year', 'Extraversion')"
   ]
  },
  {
   "cell_type": "code",
   "execution_count": null,
   "metadata": {},
   "outputs": [],
   "source": [
    "survey.pivot('Year', 'Extraversion', values='Hours of sleep', collect=np.average)"
   ]
  },
  {
   "cell_type": "code",
   "execution_count": null,
   "metadata": {},
   "outputs": [],
   "source": [
    "survey.group('Extraversion', np.average)"
   ]
  },
  {
   "cell_type": "markdown",
   "metadata": {},
   "source": [
    "# Joining two tables"
   ]
  },
  {
   "cell_type": "code",
   "execution_count": null,
   "metadata": {},
   "outputs": [],
   "source": [
    "# recall our drinks table above\n",
    "drinks"
   ]
  },
  {
   "cell_type": "code",
   "execution_count": null,
   "metadata": {},
   "outputs": [],
   "source": [
    "## Some cafes are offering discounts\n",
    "discounts = Table().with_columns(\n",
    "    'Coupon % off', make_array(10, 25, 5),\n",
    "    'Cafe', make_array('Noisette', 'Vero', 'Hideaway'),\n",
    ")\n",
    "discounts"
   ]
  },
  {
   "cell_type": "code",
   "execution_count": null,
   "metadata": {},
   "outputs": [],
   "source": [
    "# given two tables that have a common column, we join them as\n",
    "# table1.join('common_column', table2)\n",
    "\n",
    "combined = drinks.join('Cafe', discounts)\n",
    "combined"
   ]
  },
  {
   "cell_type": "code",
   "execution_count": null,
   "metadata": {},
   "outputs": [],
   "source": [
    "## Where did some of the cafes go? "
   ]
  },
  {
   "cell_type": "code",
   "execution_count": null,
   "metadata": {},
   "outputs": [],
   "source": [
    "### What do we do if the columns have different names in the two tables?\n",
    "#### new_table = table1.join(column label table 1, table 2, column label 2)\n",
    "\n",
    "dollars_off = Table().with_columns(\n",
    "    'Dollars off', make_array( 0.75, 0.90,   0.5),\n",
    "    'Location',    make_array('Vero', 'Noisette', 'Hideaway'),\n",
    ")\n",
    "dollars_off"
   ]
  },
  {
   "cell_type": "code",
   "execution_count": null,
   "metadata": {},
   "outputs": [],
   "source": [
    "super_saver = drinks.join('Cafe', dollars_off, 'Location')\n",
    "super_saver"
   ]
  }
 ],
 "metadata": {
  "anaconda-cloud": {},
  "kernelspec": {
   "display_name": "Python 3 (ipykernel)",
   "language": "python",
   "name": "python3"
  },
  "language_info": {
   "codemirror_mode": {
    "name": "ipython",
    "version": 3
   },
   "file_extension": ".py",
   "mimetype": "text/x-python",
   "name": "python",
   "nbconvert_exporter": "python",
   "pygments_lexer": "ipython3",
   "version": "3.10.6"
  }
 },
 "nbformat": 4,
 "nbformat_minor": 4
}
