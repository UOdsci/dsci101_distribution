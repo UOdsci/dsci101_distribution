{
 "cells": [
  {
   "cell_type": "code",
   "execution_count": null,
   "metadata": {},
   "outputs": [],
   "source": [
    "from datascience import *\n",
    "import numpy as np\n",
    "\n",
    "%matplotlib inline\n",
    "import matplotlib.pyplot as plots\n",
    "plots.style.use('fivethirtyeight')\n",
    "\n",
    "path = 'https://github.com/oregon-data-science/DSCI101/raw/main/data/'\n",
    "\n",
    "'imports OK'"
   ]
  },
  {
   "cell_type": "markdown",
   "metadata": {},
   "source": [
    "# Table manipulation summary, demonstrated using the previously seen Census database"
   ]
  },
  {
   "cell_type": "markdown",
   "metadata": {},
   "source": [
    "## 1. load the table"
   ]
  },
  {
   "cell_type": "code",
   "execution_count": null,
   "metadata": {},
   "outputs": [],
   "source": [
    "full = Table.read_table(path + 'nc-est2014-agesex-res.csv')\n",
    "full"
   ]
  },
  {
   "cell_type": "code",
   "execution_count": null,
   "metadata": {},
   "outputs": [],
   "source": [
    "Table.num_rows?"
   ]
  },
  {
   "cell_type": "markdown",
   "metadata": {},
   "source": [
    "## 2. Note the number of columns, rows, and column labels"
   ]
  },
  {
   "cell_type": "code",
   "execution_count": null,
   "metadata": {},
   "outputs": [],
   "source": [
    "print(\"Number of columns:\", full.num_columns)\n",
    "print(\"Number of rows:\", full.num_rows)\n",
    "print(\"Column labels:\", full.labels)"
   ]
  },
  {
   "cell_type": "markdown",
   "metadata": {},
   "source": [
    "## 3. Use select() or drop() to yield a table with the columns you desire"
   ]
  },
  {
   "cell_type": "code",
   "execution_count": null,
   "metadata": {},
   "outputs": [],
   "source": [
    "partial = full.select('SEX', 'AGE', 'POPESTIMATE2010', 'POPESTIMATE2014')\n",
    "partial"
   ]
  },
  {
   "cell_type": "markdown",
   "metadata": {},
   "source": [
    "## 4. Make things easier to read"
   ]
  },
  {
   "cell_type": "code",
   "execution_count": null,
   "metadata": {},
   "outputs": [],
   "source": [
    "simple = partial.relabeled(2, '2010').relabeled(3, '2014')\n",
    "simple"
   ]
  },
  {
   "cell_type": "code",
   "execution_count": null,
   "metadata": {},
   "outputs": [],
   "source": [
    "partial.relabeled?"
   ]
  },
  {
   "cell_type": "markdown",
   "metadata": {},
   "source": [
    "## 5. Determine unique values in some of the columns"
   ]
  },
  {
   "cell_type": "code",
   "execution_count": null,
   "metadata": {},
   "outputs": [],
   "source": [
    "print(\"unique values in SEX column:\", np.unique(simple.column('SEX')))\n",
    "print(\"unique values in AGE column:\\n\", np.unique(simple.column('AGE')))"
   ]
  },
  {
   "cell_type": "code",
   "execution_count": null,
   "metadata": {},
   "outputs": [],
   "source": [
    " np.unique?"
   ]
  },
  {
   "cell_type": "markdown",
   "metadata": {},
   "source": [
    "## 6. Use where() to keep only the rows you want - several examples below"
   ]
  },
  {
   "cell_type": "code",
   "execution_count": null,
   "metadata": {},
   "outputs": [],
   "source": [
    "simple.where('SEX', 1)"
   ]
  },
  {
   "cell_type": "code",
   "execution_count": null,
   "metadata": {},
   "outputs": [],
   "source": [
    "simple.sort('AGE').where('SEX', are.not_equal_to(0))"
   ]
  },
  {
   "cell_type": "code",
   "execution_count": null,
   "metadata": {},
   "outputs": [],
   "source": [
    "simple.where('SEX', 0).where('AGE', are.between(10, 20))"
   ]
  },
  {
   "cell_type": "code",
   "execution_count": null,
   "metadata": {},
   "outputs": [],
   "source": [
    "simple.where('SEX', 0).drop('SEX').where('AGE', are.between(10, 20)).plot('AGE')"
   ]
  },
  {
   "cell_type": "markdown",
   "metadata": {},
   "source": [
    "## 7. Use column() to extract an array to manipulate - for example, do the following to determine the average age in 2010 and 2014"
   ]
  },
  {
   "cell_type": "code",
   "execution_count": null,
   "metadata": {},
   "outputs": [],
   "source": [
    "total_by_age = simple.where('SEX', 0).where('AGE', are.below(999))\n",
    "total_by_age"
   ]
  },
  {
   "cell_type": "code",
   "execution_count": null,
   "metadata": {},
   "outputs": [],
   "source": [
    "## We can only do math on arrays (vs objects of type table, even if they are only a column)\n",
    "## How could I calculate the average age in 2010? \n",
    "sum_ages = sum(total_by_age.column('AGE') * total_by_age.column('2010'))\n",
    "sum_ages/sum(total_by_age.column('2010'))"
   ]
  },
  {
   "cell_type": "markdown",
   "metadata": {},
   "source": [
    "## 8. Make computing the average age a function"
   ]
  },
  {
   "cell_type": "code",
   "execution_count": null,
   "metadata": {},
   "outputs": [],
   "source": [
    "def average_age(age_array, num_array):\n",
    "    return sum(age_array * num_array) / sum(num_array)"
   ]
  },
  {
   "cell_type": "code",
   "execution_count": null,
   "metadata": {},
   "outputs": [],
   "source": [
    "total_by_age = simple.where('SEX', 0).where('AGE', are.below(999))\n",
    "\n",
    "## in 2010 \n",
    "round(average_age(total_by_age.column('AGE'), total_by_age.column('2010')), 2)"
   ]
  },
  {
   "cell_type": "code",
   "execution_count": null,
   "metadata": {},
   "outputs": [],
   "source": [
    "## in 2014\n",
    "round(average_age(total_by_age.column('AGE'), total_by_age.column('2014')), 2)"
   ]
  },
  {
   "cell_type": "code",
   "execution_count": null,
   "metadata": {},
   "outputs": [],
   "source": [
    "## Why make functions? "
   ]
  },
  {
   "cell_type": "markdown",
   "metadata": {},
   "source": [
    "## 9. Add a column to help you select the appropriate rows\n",
    "\n",
    "Suppose we only want rows from `simple` where females outnumber males in 2014"
   ]
  },
  {
   "cell_type": "code",
   "execution_count": null,
   "metadata": {},
   "outputs": [],
   "source": [
    "# what do we need to do?\n",
    "## end goal: Create a table where we can compare the number of females and males, \n",
    "## then subset to the rows where number females > number males\n",
    "\n",
    "# a. Clean up main table of unwanted rows: drop rows where AGE == 999\n",
    "# b. Get the males: extract rows where SEX == 1, assigned to males\n",
    "# c. Get the Females: extract rows where SEX == 2, assigned to females\n",
    "# d. Combine males and females for comparison: create a new table with three columns: AGE, MALE, FEMALE\n",
    "# e. Make the comparison: compute FEMALE/MALE ratio\n",
    "# f. Subsect the table: extract rows where RATIO > 1.0, dropping RATIO from the table"
   ]
  },
  {
   "cell_type": "code",
   "execution_count": null,
   "metadata": {},
   "outputs": [],
   "source": [
    "clean_census = simple.where('AGE', are.below(999))    # a"
   ]
  },
  {
   "cell_type": "code",
   "execution_count": null,
   "metadata": {},
   "outputs": [],
   "source": [
    "males = clean_census.where('SEX', 1)                  # b"
   ]
  },
  {
   "cell_type": "code",
   "execution_count": null,
   "metadata": {},
   "outputs": [],
   "source": [
    "females = clean_census.where('SEX', 2)                # c"
   ]
  },
  {
   "cell_type": "code",
   "execution_count": null,
   "metadata": {},
   "outputs": [],
   "source": [
    "comp_males_females = Table().with_columns(\n",
    "    'AGE', males.column('AGE'),\n",
    "    'MALE', males.column('2014'),\n",
    "    'FEMALE', females.column('2014'),\n",
    ")                                           # d"
   ]
  },
  {
   "cell_type": "code",
   "execution_count": null,
   "metadata": {},
   "outputs": [],
   "source": [
    "comp_males_females = comp_males_females.with_column('RATIO',\n",
    "                    comp_males_females.column(\"FEMALE\")/comp_males_females.column(\"MALE\"))\n",
    "comp_males_females # e"
   ]
  },
  {
   "cell_type": "code",
   "execution_count": null,
   "metadata": {},
   "outputs": [],
   "source": [
    "females_outnumber_males = comp_males_females.where('RATIO', are.above(1.0)).drop('RATIO') # g\n",
    "females_outnumber_males.show()"
   ]
  }
 ],
 "metadata": {
  "anaconda-cloud": {},
  "kernelspec": {
   "display_name": "Python 3 (ipykernel)",
   "language": "python",
   "name": "python3"
  },
  "language_info": {
   "codemirror_mode": {
    "name": "ipython",
    "version": 3
   },
   "file_extension": ".py",
   "mimetype": "text/x-python",
   "name": "python",
   "nbconvert_exporter": "python",
   "pygments_lexer": "ipython3",
   "version": "3.10.6"
  }
 },
 "nbformat": 4,
 "nbformat_minor": 4
}
