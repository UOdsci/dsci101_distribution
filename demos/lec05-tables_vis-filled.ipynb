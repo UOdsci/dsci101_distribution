{
 "cells": [
  {
   "cell_type": "code",
   "execution_count": null,
   "id": "ac03b5c2-1aea-4350-95f3-05e09ed0368c",
   "metadata": {},
   "outputs": [],
   "source": [
    "from datascience import *\n",
    "import numpy as np\n",
    "\n",
    "%matplotlib inline\n",
    "import matplotlib.pyplot as plots\n",
    "plots.style.use('fivethirtyeight')\n",
    "\n",
    "path = 'https://github.com/oregon-data-science/DSCI101/raw/main/data/'\n",
    "\n",
    "'imports OK'"
   ]
  },
  {
   "cell_type": "markdown",
   "id": "dc73cad5-d7c0-40c2-8776-4b2c58c09543",
   "metadata": {},
   "source": [
    "## Table review with census data"
   ]
  },
  {
   "cell_type": "code",
   "execution_count": null,
   "id": "1d69b661-a642-4209-88bd-bdd5a177baae",
   "metadata": {},
   "outputs": [],
   "source": [
    "## Read in census data"
   ]
  },
  {
   "cell_type": "code",
   "execution_count": null,
   "id": "5a442d75-62da-49be-a728-ad19e899d609",
   "metadata": {},
   "outputs": [],
   "source": [
    "full = Table.read_table(path + 'nc-est2014-agesex-res.csv')\n",
    "full"
   ]
  },
  {
   "cell_type": "code",
   "execution_count": null,
   "id": "9bb76c37-f920-41f4-9d8a-4e22af79c5f0",
   "metadata": {},
   "outputs": [],
   "source": [
    "# Keep only the columns we care about\n",
    "partial = full.select('SEX', 'AGE', 'POPESTIMATE2010', 'POPESTIMATE2014')\n",
    "partial"
   ]
  },
  {
   "cell_type": "code",
   "execution_count": null,
   "id": "a26805e2-1060-41b4-97b9-9ad627bc3b97",
   "metadata": {},
   "outputs": [],
   "source": [
    "# Make things easier to read\n",
    "simple = partial.relabeled(2, '2010').relabeled(3, '2014')\n",
    "simple"
   ]
  },
  {
   "cell_type": "code",
   "execution_count": null,
   "id": "9fc3e87b-52af-4ffc-bc24-e680728ad3ef",
   "metadata": {},
   "outputs": [],
   "source": [
    "# Sort by age\n",
    "simple.sort('AGE')"
   ]
  },
  {
   "cell_type": "code",
   "execution_count": null,
   "id": "7530754e-3b19-4747-9cc8-5a54af4da93d",
   "metadata": {},
   "outputs": [],
   "source": [
    "# Remove the age totals (the 999 catagory), use are.below\n",
    "no_999 = simple.where('AGE', are.below(999))\n",
    "no_999 "
   ]
  },
  {
   "cell_type": "code",
   "execution_count": null,
   "id": "315e0f9f-3eb5-4a99-953c-4269cb55223e",
   "metadata": {},
   "outputs": [],
   "source": [
    "# Remove male and female (keep only combined 0 catagory)\n",
    "everyone = no_999.where('SEX', 0).drop('SEX')\n",
    "everyone"
   ]
  },
  {
   "cell_type": "code",
   "execution_count": null,
   "id": "f4f33cb7-e6b6-47e3-896f-7d12c521b2f9",
   "metadata": {},
   "outputs": [],
   "source": [
    "## Males and Females in 2014 ##"
   ]
  },
  {
   "cell_type": "code",
   "execution_count": null,
   "id": "90a8e394-70b5-44b4-a688-74f9f1a0ebe1",
   "metadata": {},
   "outputs": [],
   "source": [
    "# Let's compare male and female counts per age\n",
    "males = no_999.where('SEX', 1).drop('SEX')\n",
    "females = no_999.where('SEX', 2).drop('SEX')"
   ]
  },
  {
   "cell_type": "code",
   "execution_count": null,
   "id": "44248c5b-9848-4f1a-98ba-870dd2885870",
   "metadata": {},
   "outputs": [],
   "source": [
    "females.num_rows"
   ]
  },
  {
   "cell_type": "code",
   "execution_count": null,
   "id": "0316a9b4-d5ce-45d7-b542-90eab8dcb6d8",
   "metadata": {},
   "outputs": [],
   "source": [
    "males.num_rows"
   ]
  },
  {
   "cell_type": "code",
   "execution_count": null,
   "id": "cdfa7cc1-ba73-4644-a246-eeac3fed7d5a",
   "metadata": {},
   "outputs": [],
   "source": [
    "## put them back together in a table\n",
    "## only works because they are the name number of rows!!\n",
    "pop_2014 = Table().with_columns(\n",
    "    'Age', males.column('AGE'),  \n",
    "    'Males', males.column('2014'),\n",
    "    'Females', females.column('2014')\n",
    ")\n",
    "pop_2014"
   ]
  },
  {
   "cell_type": "code",
   "execution_count": null,
   "id": "b0b46286-7f14-4261-9ffa-c3cc6309a5c0",
   "metadata": {},
   "outputs": [],
   "source": [
    "pop_2014.plot('Age')"
   ]
  },
  {
   "cell_type": "code",
   "execution_count": null,
   "id": "28b89c3d-ba1a-4056-b807-8ffa8436ccf0",
   "metadata": {},
   "outputs": [],
   "source": [
    "# Calculate the percent female for each age\n",
    "total = pop_2014.column('Males') + pop_2014.column('Females')\n",
    "total"
   ]
  },
  {
   "cell_type": "code",
   "execution_count": null,
   "id": "e79f4b4a-8296-40a5-b282-a471fcced26b",
   "metadata": {},
   "outputs": [],
   "source": [
    "pct_female = (pop_2014.column('Females') / total) * 100\n",
    "pct_female"
   ]
  },
  {
   "cell_type": "code",
   "execution_count": null,
   "id": "b5c5b9ad-3631-420e-9dda-ec3d47d68d74",
   "metadata": {},
   "outputs": [],
   "source": [
    "# Round it to 3 so that it's easier to read\n",
    "pct_female = np.round(pct_female, 2)\n",
    "pct_female"
   ]
  },
  {
   "cell_type": "code",
   "execution_count": null,
   "id": "b39cd861-1f81-4206-b8db-5241ea4d5273",
   "metadata": {},
   "outputs": [],
   "source": [
    "# Add female percent to our table\n",
    "pop_2014 = pop_2014.with_column('Percent female', pct_female)\n",
    "pop_2014"
   ]
  },
  {
   "cell_type": "code",
   "execution_count": null,
   "id": "b12b106a-28ac-4bbc-9680-c077eda6373c",
   "metadata": {},
   "outputs": [],
   "source": [
    "pop_2014.plot('Age', 'Percent female')"
   ]
  },
  {
   "cell_type": "code",
   "execution_count": null,
   "id": "66346cff-38a7-493b-acd0-a02736c53415",
   "metadata": {},
   "outputs": [],
   "source": [
    "# ^^ Look at the y-axis! Trend is not as dramatic as you might think\n",
    "pop_2014.plot('Age', 'Percent female')\n",
    "plots.ylim(0, 100);  # Optional for Data 101"
   ]
  },
  {
   "cell_type": "markdown",
   "id": "5e47e43b-3f92-4231-b711-93d79be2caa3",
   "metadata": {},
   "source": [
    "## More ways to manipulate rows "
   ]
  },
  {
   "cell_type": "code",
   "execution_count": null,
   "id": "2238bbf5-0e86-43f1-87c0-f903e70ab303",
   "metadata": {},
   "outputs": [],
   "source": [
    "## Selecting data in a column "
   ]
  },
  {
   "cell_type": "code",
   "execution_count": null,
   "id": "6668c12d-c033-4b38-bda6-fa53e5395c75",
   "metadata": {},
   "outputs": [],
   "source": [
    "movies = Table.read_table(path + 'movies_by_year_with_ticket_price.csv')\n",
    "movies.show()"
   ]
  },
  {
   "cell_type": "code",
   "execution_count": null,
   "id": "c1d7b897-d31a-4894-a798-1520616b7fa8",
   "metadata": {},
   "outputs": [],
   "source": [
    "## How much each movie made in dollars, use .column so can use array functions \n",
    "gross_in_dollars = movies.column('Total Gross') * 1e6\n",
    "gross_in_dollars"
   ]
  },
  {
   "cell_type": "code",
   "execution_count": null,
   "id": "5e455cdf-f14f-4694-bed4-3017102325cb",
   "metadata": {},
   "outputs": [],
   "source": [
    "## How many tickets were sold of each movie? $ each movie made/average price of a ticket\n",
    "tix_sold = gross_in_dollars / movies.column('Average Ticket Price')\n",
    "tix_sold"
   ]
  },
  {
   "cell_type": "code",
   "execution_count": null,
   "id": "25b95f37-0f49-4828-a0a5-3ef04d1703e6",
   "metadata": {},
   "outputs": [],
   "source": [
    "## Add our new column onto the original table\n",
    "movies = movies.with_column('Tickets sold', tix_sold)\n",
    "movies.show(4)"
   ]
  },
  {
   "cell_type": "code",
   "execution_count": null,
   "id": "a3ab2ec8-96cc-4096-b1ad-7396b36f557e",
   "metadata": {},
   "outputs": [],
   "source": [
    "## a way to make the tickets column more readable\n",
    "movies = movies.set_format('Tickets sold', NumberFormatter)\n",
    "movies.show(4)"
   ]
  },
  {
   "cell_type": "code",
   "execution_count": null,
   "id": "663698ab-ce9a-4b5f-a5fb-0c626d22f741",
   "metadata": {},
   "outputs": [],
   "source": [
    "## Let's investigate the number of tickets sold in each year using a line plot\n",
    "movies.plot('Year', 'Tickets sold')"
   ]
  },
  {
   "cell_type": "code",
   "execution_count": null,
   "id": "1cf2bb4d-9292-4a9f-aadb-8566a50e2664",
   "metadata": {},
   "outputs": [],
   "source": [
    "## New flavors of where, subsetting to a range using are.between \"predicate\"\n",
    "movies.where('Year', are.between(2000, 2005))"
   ]
  },
  {
   "cell_type": "code",
   "execution_count": null,
   "id": "18ac2fd1-51cf-4f7e-8820-dd0b47d8e94c",
   "metadata": {},
   "outputs": [],
   "source": [
    "## compare that to what we have been previously using, an exact match \n",
    "movies.where('Year', 2002)"
   ]
  },
  {
   "cell_type": "code",
   "execution_count": null,
   "id": "5ca2fe3c-93e9-4d72-bbb9-71652b10ccd2",
   "metadata": {},
   "outputs": [],
   "source": [
    "## The default predicate that is called \"under the hood\" \n",
    "movies.where('Year', are.equal_to(2002))"
   ]
  },
  {
   "cell_type": "code",
   "execution_count": null,
   "id": "c4305e0b-15c2-4684-b935-1028dc813131",
   "metadata": {},
   "outputs": [],
   "source": [
    "## Another where flavor, matching to a pattern\n",
    "movies.where('#1 Movie', are.containing('Harry Potter'))"
   ]
  },
  {
   "cell_type": "code",
   "execution_count": null,
   "id": "54cdfb7d-d89b-4acd-a763-8cd622ad539b",
   "metadata": {},
   "outputs": [],
   "source": [
    "## Another where flavor, matching to a pattern\n",
    "movies.where('#1 Movie', are.containing('Lord'))"
   ]
  },
  {
   "cell_type": "code",
   "execution_count": null,
   "id": "4f7b4abd-e6da-4cbc-a7ac-1b8a2ed6d7ab",
   "metadata": {},
   "outputs": [],
   "source": [
    "## what if we wanted to be systematic about this, imagine there were many rows to count up "
   ]
  },
  {
   "cell_type": "code",
   "execution_count": null,
   "id": "50e380b3-35c2-4f39-8ff6-b51b9258d41f",
   "metadata": {},
   "outputs": [],
   "source": [
    "hp = movies.where('#1 Movie', are.containing('Harry Potter'))\n",
    "lotr = movies.where('#1 Movie', are.containing('Lord'))"
   ]
  },
  {
   "cell_type": "code",
   "execution_count": null,
   "id": "dde94512-c5ea-4055-afa2-e7db26a8e088",
   "metadata": {},
   "outputs": [],
   "source": [
    "hp.num_rows, lotr.num_rows"
   ]
  },
  {
   "cell_type": "code",
   "execution_count": null,
   "id": "196783b1-843c-4675-821a-f84cab159966",
   "metadata": {},
   "outputs": [],
   "source": [
    "print(\"HR top movies=\", hp.num_rows, \"vs. LOTR top movies=\", lotr.num_rows)"
   ]
  },
  {
   "cell_type": "code",
   "execution_count": null,
   "id": "f103694e-d74d-4fc9-b750-866387fac555",
   "metadata": {},
   "outputs": [],
   "source": [
    "## what other patterns would be interesting to look at??\n",
    "movies.where('#1 Movie', are.containing(...))"
   ]
  },
  {
   "cell_type": "code",
   "execution_count": null,
   "id": "b3a741c6-4b6f-4a1e-903e-a664f96e4797",
   "metadata": {},
   "outputs": [],
   "source": [
    "## Comparing the number of tickets sold in the years HR vs. LOTR were top"
   ]
  },
  {
   "cell_type": "code",
   "execution_count": null,
   "id": "633570a2-dba1-4272-bfeb-abd1fc42d48b",
   "metadata": {},
   "outputs": [],
   "source": [
    "hp.column(\"Tickets sold\")"
   ]
  },
  {
   "cell_type": "code",
   "execution_count": null,
   "id": "53f8cf8a-1d19-4109-a34b-06a5a5c637ab",
   "metadata": {},
   "outputs": [],
   "source": [
    "lotr.column(\"Tickets sold\")"
   ]
  },
  {
   "cell_type": "code",
   "execution_count": null,
   "id": "0b669888-a2f2-4f0a-8a12-6484be20c420",
   "metadata": {},
   "outputs": [],
   "source": [
    "## How can we compare the tickets sold? "
   ]
  },
  {
   "cell_type": "code",
   "execution_count": null,
   "id": "3cf71d5d-ce85-401c-bf0f-c1f8e92962cb",
   "metadata": {},
   "outputs": [],
   "source": [
    "..."
   ]
  },
  {
   "cell_type": "markdown",
   "id": "ffcb8c24-5ba2-44f6-8772-6aae153764b1",
   "metadata": {},
   "source": [
    "## Visualizing numerical data: Scatter plots vs. line plots"
   ]
  },
  {
   "cell_type": "code",
   "execution_count": null,
   "id": "33e63d30-d498-4dce-ad95-bdcc46d0129f",
   "metadata": {},
   "outputs": [],
   "source": [
    "# Actors and their highest grossing movies\n",
    "actors = Table.read_table(path + 'actors.csv')\n",
    "actors"
   ]
  },
  {
   "cell_type": "code",
   "execution_count": null,
   "id": "35078987-5d4a-4bd6-9dce-e3a9365257fb",
   "metadata": {},
   "outputs": [],
   "source": [
    "## Make a scatter plot\n",
    "actors.scatter('Number of Movies', 'Total Gross')"
   ]
  },
  {
   "cell_type": "code",
   "execution_count": null,
   "id": "b29d44ad-b724-4f68-83bc-9d5cabafeb0b",
   "metadata": {},
   "outputs": [],
   "source": [
    "## What about a line plot (AH!) \n",
    "actors.plot('Number of Movies', 'Total Gross')"
   ]
  },
  {
   "cell_type": "code",
   "execution_count": null,
   "id": "ff788cb5-5835-43f8-b77c-df2429a615c9",
   "metadata": {},
   "outputs": [],
   "source": [
    "## our x variable is not sequential, leads to mayhem, scatter is best "
   ]
  },
  {
   "cell_type": "code",
   "execution_count": null,
   "id": "d3c5f570-7b02-4d49-951e-75ca136b3737",
   "metadata": {},
   "outputs": [],
   "source": [
    "## Are there any actors that are one hit wonders? \n",
    "actors.scatter('...', '...')"
   ]
  },
  {
   "cell_type": "code",
   "execution_count": null,
   "id": "1a9e4182-ac70-4c9c-b403-d7a1e24618c2",
   "metadata": {},
   "outputs": [],
   "source": [
    "## to Help decide which columns to use\n",
    "actors.labels"
   ]
  },
  {
   "cell_type": "code",
   "execution_count": null,
   "id": "108f7f91-0a92-4095-b719-557bba0a4081",
   "metadata": {},
   "outputs": [],
   "source": [
    "## or depending on preference... \n",
    "actors.show(5)"
   ]
  },
  {
   "cell_type": "code",
   "execution_count": null,
   "id": "c60b4bd0-c4a8-4724-a453-d5eaa13dc587",
   "metadata": {},
   "outputs": [],
   "source": [
    "## Who is that crazy point with < 10 movies but a crazy high average gross???? "
   ]
  },
  {
   "cell_type": "code",
   "execution_count": null,
   "id": "1831176f-857e-41cb-a3c7-61f17b6bea95",
   "metadata": {},
   "outputs": [],
   "source": [
    "actors.where('Average per Movie', ...)"
   ]
  },
  {
   "cell_type": "markdown",
   "id": "d72a04fd-b309-4b11-a8d5-f91f6c0921e2",
   "metadata": {},
   "source": [
    "## Visualizing categorical data: barcharts"
   ]
  },
  {
   "cell_type": "code",
   "execution_count": null,
   "id": "7de89372-bcb2-45a9-8d3a-e2ef8aa23660",
   "metadata": {},
   "outputs": [],
   "source": [
    "# Highest grossing movies as of 2017\n",
    "top_movies = Table.read_table(path + 'top_movies_2017.csv')\n",
    "top_movies"
   ]
  },
  {
   "cell_type": "code",
   "execution_count": null,
   "id": "8c2a6a47-03c4-4a01-8330-494216198c6a",
   "metadata": {},
   "outputs": [],
   "source": [
    "## subset to the top 10, how? \n",
    "top10_adjusted = top_movies.take(...)\n",
    "top10_adjusted"
   ]
  },
  {
   "cell_type": "code",
   "execution_count": null,
   "id": "a6296893-99ae-4def-b23e-d7855a773a8d",
   "metadata": {},
   "outputs": [],
   "source": [
    "# Convert to millions of dollars for readability, round\n",
    "millions = np.round(top10_adjusted.column('Gross (Adjusted)') / 1e6, 2)\n",
    "top10_adjusted = top10_adjusted.with_column('Millions', millions)\n",
    "top10_adjusted"
   ]
  },
  {
   "cell_type": "code",
   "execution_count": null,
   "id": "57d8fbe2-6b67-4ce9-80a2-226b651586d7",
   "metadata": {},
   "outputs": [],
   "source": [
    "# A line plot doesn't make sense here: don't do this! AH! \n",
    "top10_adjusted.plot('Year', 'Millions')"
   ]
  },
  {
   "cell_type": "code",
   "execution_count": null,
   "id": "dca2c282-a5a9-4dcf-badb-0f0fe901b713",
   "metadata": {},
   "outputs": [],
   "source": [
    "## Use a barchar instead\n",
    "top10_adjusted.barh('Title', 'Millions')"
   ]
  },
  {
   "cell_type": "code",
   "execution_count": null,
   "id": "d76f1d30-6bb3-44c3-87f1-0c8904261e6b",
   "metadata": {},
   "outputs": [],
   "source": [
    "## When did we start keeping track of movies\n",
    "min(top_movies.column(\"Year\"))"
   ]
  },
  {
   "cell_type": "code",
   "execution_count": null,
   "id": "6d794719-79df-4cc4-898b-9209627e8b7d",
   "metadata": {},
   "outputs": [],
   "source": []
  }
 ],
 "metadata": {
  "kernelspec": {
   "display_name": "Python 3 (ipykernel)",
   "language": "python",
   "name": "python3"
  },
  "language_info": {
   "codemirror_mode": {
    "name": "ipython",
    "version": 3
   },
   "file_extension": ".py",
   "mimetype": "text/x-python",
   "name": "python",
   "nbconvert_exporter": "python",
   "pygments_lexer": "ipython3",
   "version": "3.10.6"
  }
 },
 "nbformat": 4,
 "nbformat_minor": 5
}
