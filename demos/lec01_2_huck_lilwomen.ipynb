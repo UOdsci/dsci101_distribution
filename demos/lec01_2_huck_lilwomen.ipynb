{
 "cells": [
  {
   "cell_type": "code",
   "execution_count": null,
   "metadata": {},
   "outputs": [],
   "source": [
    "# Stuff that will appear at the top of notebooks;\n",
    "# You don't have to understand how this works or change it for now.\n",
    "\n",
    "from datascience import *\n",
    "import numpy as np\n",
    "%matplotlib inline\n",
    "import matplotlib.pyplot as plots\n",
    "plots.style.use('fivethirtyeight')\n",
    "import warnings\n",
    "warnings.simplefilter(action=\"ignore\", category=FutureWarning)\n",
    "\n",
    "from urllib.request import urlopen \n",
    "import re\n",
    "def read_url(url): \n",
    "    return re.sub('\\\\s+', ' ', urlopen(url).read().decode())\n",
    "\"imports complete\""
   ]
  },
  {
   "cell_type": "markdown",
   "metadata": {},
   "source": [
    "## Words of Caution ##\n",
    "- Remember to <font color='blue'>**run the cell above**</font>. It's for setting up the environment so you can have access to what's needed for this lecture. For now, don't worry about what it means: we'll learn more about what's inside of it in the next few lectures.\n",
    "- Data science is not just about code, so please don't go over this notebook by itself. Have the relevant textbook sections or lecture video at hand so that you can go over the discussion along with the code. Thank you! "
   ]
  },
  {
   "cell_type": "markdown",
   "metadata": {},
   "source": [
    "# Fun with Huckleberry Finn and Little Women"
   ]
  },
  {
   "cell_type": "code",
   "execution_count": 2,
   "metadata": {},
   "outputs": [],
   "source": [
    "# Read two books, fast!\n",
    "\n",
    "huck_finn_url = 'https://www.inferentialthinking.com/data/huck_finn.txt'\n",
    "huck_finn_text = read_url(huck_finn_url)\n",
    "huck_finn_chapters = huck_finn_text.split('CHAPTER ')[44:]\n",
    "\n",
    "little_women_url = 'https://www.inferentialthinking.com/data/little_women.txt'\n",
    "little_women_text = read_url(little_women_url)\n",
    "little_women_chapters = little_women_text.split('CHAPTER ')[1:]"
   ]
  },
  {
   "cell_type": "code",
   "execution_count": null,
   "metadata": {},
   "outputs": [],
   "source": [
    "huck_finn_chapters"
   ]
  },
  {
   "cell_type": "code",
   "execution_count": null,
   "metadata": {},
   "outputs": [],
   "source": [
    "Table().with_column('Chapters', huck_finn_chapters)"
   ]
  },
  {
   "cell_type": "code",
   "execution_count": null,
   "metadata": {},
   "outputs": [],
   "source": [
    "np.char.count(huck_finn_chapters, 'Tom')"
   ]
  },
  {
   "cell_type": "code",
   "execution_count": null,
   "metadata": {},
   "outputs": [],
   "source": [
    "np.char.count(huck_finn_chapters, 'Jim')"
   ]
  },
  {
   "cell_type": "markdown",
   "metadata": {},
   "source": [
    " ##  Counting the main character appearances"
   ]
  },
  {
   "cell_type": "code",
   "execution_count": null,
   "metadata": {},
   "outputs": [],
   "source": [
    "# Count how many times the names Jim, Tom, and Huck appear in each chapter\n",
    "\n",
    "counts = Table().with_columns([\n",
    "    'Tom', np.char.count(huck_finn_chapters, 'Tom'),\n",
    "    'Jim', np.char.count(huck_finn_chapters, 'Jim'),\n",
    "    'Huck', np.char.count(huck_finn_chapters, 'Huck'),\n",
    "])\n",
    "counts\n",
    "## why does Huck show up less often?"
   ]
  },
  {
   "cell_type": "code",
   "execution_count": null,
   "metadata": {},
   "outputs": [],
   "source": [
    "# Plot the cumulative counts:\n",
    "# how many times in Chapter 1, how many times in Chapters 1 and 2, and so on.\n",
    "\n",
    "cum_counts = Table().with_columns([\n",
    "        'Jim', np.cumsum(np.char.count(huck_finn_chapters, 'Jim')),\n",
    "        'Tom', np.cumsum(np.char.count(huck_finn_chapters, 'Tom')),\n",
    "        'Huck', np.cumsum(np.char.count(huck_finn_chapters, 'Huck'))\n",
    "    ])\n",
    "\n",
    "# Plot the cumulative counts:\n",
    "# how many times in Chapter 1, how many times in Chapters 1 and 2, and so on.\n",
    "\n",
    "cum_counts_tab = cum_counts.with_column('Chapter', np.arange(1, 44, 1))\n",
    "cum_counts_tab.plot(column_for_xticks=3)\n",
    "plots.title('Cumulative Number of Times Each Name Appears', y=1.08)"
   ]
  },
  {
   "cell_type": "code",
   "execution_count": null,
   "metadata": {},
   "outputs": [],
   "source": [
    "# The chapters of Little Women\n",
    "\n",
    "Table().with_column('Chapters', little_women_chapters)"
   ]
  },
  {
   "cell_type": "code",
   "execution_count": null,
   "metadata": {},
   "outputs": [],
   "source": [
    "# Counts of names in the chapters of Little Women\n",
    "\n",
    "people = ['Amy', 'Beth', 'Jo', 'Laurie', 'Meg']\n",
    "people_counts = {pp: np.char.count(little_women_chapters, pp) for pp in people}\n",
    "\n",
    "counts = Table().with_columns([\n",
    "        'Amy', people_counts['Amy'],\n",
    "        'Beth', people_counts['Beth'],\n",
    "        'Jo', people_counts['Jo'],\n",
    "        'Laurie', people_counts['Laurie'],\n",
    "        'Meg', people_counts['Meg']\n",
    "    ])\n",
    "\n",
    "counts"
   ]
  },
  {
   "cell_type": "code",
   "execution_count": null,
   "metadata": {},
   "outputs": [],
   "source": [
    "# Plot the cumulative counts\n",
    "\n",
    "\n",
    "people = ['Amy', 'Beth', 'Jo', 'Laurie', 'Meg']\n",
    "people_counts_cum = {pp: np.cumsum(np.char.count(little_women_chapters, pp)) for pp in people}\n",
    "\n",
    "cum_counts = Table().with_columns([\n",
    "        'Amy', people_counts_cum['Amy'],\n",
    "        'Beth', people_counts_cum['Beth'],\n",
    "        'Jo', people_counts_cum['Jo'],\n",
    "        'Laurie', people_counts_cum['Laurie'],\n",
    "        'Meg', people_counts_cum['Meg']\n",
    "    ])\n",
    "\n",
    "cum_counts\n",
    "\n",
    "cum_counts_tab = cum_counts.with_column('Chapter', np.arange(1, 48, 1))\n",
    "cum_counts_tab.plot(column_for_xticks=5)\n",
    "plots.title('Cumulative Number of Times Name Appears');"
   ]
  },
  {
   "cell_type": "code",
   "execution_count": null,
   "metadata": {},
   "outputs": [],
   "source": [
    " ## who does Laurie marry?"
   ]
  },
  {
   "cell_type": "markdown",
   "metadata": {},
   "source": [
    " ## Counting punctuation and letters"
   ]
  },
  {
   "cell_type": "code",
   "execution_count": null,
   "metadata": {},
   "outputs": [],
   "source": [
    "# In each chapter, count the number of all characters;\n",
    "# call this the \"length\" of the chapter.\n",
    "# Also count the number of periods.\n",
    "\n",
    "chars_periods_hf = Table().with_columns([\n",
    "        'HF Chapter Length', [len(s) for s in huck_finn_chapters],\n",
    "        'Number of Periods', np.char.count(huck_finn_chapters, '.')\n",
    "    ])\n",
    "chars_periods_lw = Table().with_columns([\n",
    "        'LW Chapter Length', [len(s) for s in little_women_chapters],\n",
    "        'Number of Periods', np.char.count(little_women_chapters, '.')\n",
    "    ])"
   ]
  },
  {
   "cell_type": "code",
   "execution_count": null,
   "metadata": {},
   "outputs": [],
   "source": [
    "# The counts for Huckleberry Finn\n",
    "\n",
    "chars_periods_hf"
   ]
  },
  {
   "cell_type": "code",
   "execution_count": null,
   "metadata": {},
   "outputs": [],
   "source": [
    "# The counts for Little Women\n",
    "\n",
    "chars_periods_lw"
   ]
  },
  {
   "cell_type": "code",
   "execution_count": null,
   "metadata": {},
   "outputs": [],
   "source": [
    "plots.figure(figsize=(10,10))\n",
    "plots.scatter(chars_periods_hf[1], chars_periods_hf[0], color='darkblue')\n",
    "plots.scatter(chars_periods_lw[1], chars_periods_lw[0], color='gold')\n",
    "plots.xlabel('Number of periods in chapter')\n",
    "plots.ylabel('Number of characters in chapter');"
   ]
  },
  {
   "cell_type": "code",
   "execution_count": null,
   "metadata": {},
   "outputs": [],
   "source": [
    "## blue is Huck Finn and yellow is Little women\n",
    "## slope: 100-150 characters for a sentence, \n",
    "## what does this remind you of?"
   ]
  }
 ],
 "metadata": {
  "anaconda-cloud": {},
  "celltoolbar": "Raw Cell Format",
  "kernelspec": {
   "display_name": "base",
   "language": "python",
   "name": "python3"
  },
  "language_info": {
   "codemirror_mode": {
    "name": "ipython",
    "version": 3
   },
   "file_extension": ".py",
   "mimetype": "text/x-python",
   "name": "python",
   "nbconvert_exporter": "python",
   "pygments_lexer": "ipython3",
   "version": "3.12.4"
  }
 },
 "nbformat": 4,
 "nbformat_minor": 4
}
