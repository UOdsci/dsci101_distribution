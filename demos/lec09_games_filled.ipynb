{
 "cells": [
  {
   "cell_type": "code",
   "execution_count": null,
   "id": "14e60753-a990-4563-b065-230236b50b1d",
   "metadata": {},
   "outputs": [],
   "source": [
    "from datascience import *\n",
    "import numpy as np\n",
    "\n",
    "%matplotlib inline\n",
    "import matplotlib.pyplot as plots\n",
    "plots.style.use('fivethirtyeight')\n",
    "\n",
    "'import completed'"
   ]
  },
  {
   "cell_type": "markdown",
   "id": "57774561-839a-4e98-8450-a96cbe994080",
   "metadata": {},
   "source": [
    "## Just a queen, king and ace"
   ]
  },
  {
   "cell_type": "code",
   "execution_count": null,
   "id": "707def79-2aa5-4bea-9f8e-da811ae46ab9",
   "metadata": {},
   "outputs": [],
   "source": [
    "## I have three cards: ace of hearts, king of diamonds,  and queen of spades.\n",
    "## I shuffle them and draw two cards at random without  replacement.\n",
    "## What is the chance that I get the Queen followed by the  King?"
   ]
  },
  {
   "cell_type": "code",
   "execution_count": null,
   "id": "798e7214-439f-448c-900f-9a711de3dc04",
   "metadata": {},
   "outputs": [],
   "source": [
    "mini_deck = make_array(\"queen\", \"king\", \"ace\")"
   ]
  },
  {
   "cell_type": "code",
   "execution_count": null,
   "id": "edf43e6d-515d-49f9-91fe-ae8636a0fc07",
   "metadata": {},
   "outputs": [],
   "source": [
    "## randomly draw without! replacement\n",
    "np.random.choice(mini_deck, 2, replace=False)"
   ]
  },
  {
   "cell_type": "code",
   "execution_count": null,
   "id": "84d47f99-219e-4f2d-953c-86d5da637479",
   "metadata": {},
   "outputs": [],
   "source": [
    "## class totals: \n",
    "## QK:\n",
    "\n",
    "## not QK:\n",
    "\n",
    "## what's the probability of drawing a Q then K? (sample size...)\n"
   ]
  },
  {
   "cell_type": "code",
   "execution_count": null,
   "id": "e7c8a25b-4caf-4589-9928-c388cb88beb5",
   "metadata": {},
   "outputs": [],
   "source": [
    "## can we write a simulation to do what the class did? \n",
    "\n",
    "def draw_2_cards():\n",
    "    my_draw = np.random.choice(mini_deck, 2, replace=False)\n",
    "    if(my_draw.item(0) == \"queen\" and my_draw.item(1) == \"king\"):\n",
    "        result =  1\n",
    "    else:\n",
    "        result = 0\n",
    "    return(result)\n",
    "        \n",
    "draw_2_cards()"
   ]
  },
  {
   "cell_type": "code",
   "execution_count": null,
   "id": "d12515a7-e38c-4643-aabf-66aa5871bcce",
   "metadata": {},
   "outputs": [],
   "source": [
    "results = make_array()\n",
    "\n",
    "for i in np.arange(100000):\n",
    "    results = np.append(results, draw_2_cards())\n",
    "    \n",
    "results"
   ]
  },
  {
   "cell_type": "code",
   "execution_count": null,
   "id": "905b564c-5b6e-454f-b37a-c4cb8bbe5c9b",
   "metadata": {},
   "outputs": [],
   "source": [
    "np.average(results)"
   ]
  },
  {
   "cell_type": "code",
   "execution_count": null,
   "id": "97550c0e-eef0-40b5-9590-812b868f5464",
   "metadata": {},
   "outputs": [],
   "source": [
    "## can also calculate this based on probability rules, back to slides"
   ]
  },
  {
   "cell_type": "code",
   "execution_count": null,
   "id": "31e039cb-dce8-4012-a7fc-78a5a7419477",
   "metadata": {},
   "outputs": [],
   "source": [
    "# next game\n",
    "# I have three cards: ace of hearts, king of diamonds,  and queen of spades.\n",
    "# I shuffle them and draw two cards at random without  replacement.\n",
    "# What is the chance that one of the cards I draw is a  King and the other is Queen?"
   ]
  },
  {
   "cell_type": "code",
   "execution_count": null,
   "id": "eeb854a1-cbbf-484a-bbf1-37fe4b5f3ee2",
   "metadata": {},
   "outputs": [],
   "source": [
    "## randomly draw without! replacement\n",
    "np.random.choice(mini_deck, 2, replace=False)"
   ]
  },
  {
   "cell_type": "code",
   "execution_count": null,
   "id": "e351a233-6c5b-40ba-82c2-a33439deb2ea",
   "metadata": {},
   "outputs": [],
   "source": [
    "## class totals \n",
    "## drew a Q \n",
    "\n",
    "## drew a K\n",
    "\n",
    "## drew neither a K or a Q\n",
    "\n",
    "## what's the probability of drawing either a K or a Q? (sample size...)\n"
   ]
  },
  {
   "cell_type": "code",
   "execution_count": null,
   "id": "b436cf6d-6dc9-4964-a448-9f6f7522fd3b",
   "metadata": {},
   "outputs": [],
   "source": [
    "def draw_2_cards_v2():\n",
    "    my_draw = np.random.choice(mini_deck, 2, replace=False)\n",
    "    if(my_draw.item(0) == \"queen\" or my_draw.item(0) == \"king\"):\n",
    "        result =  1\n",
    "    elif(my_draw.item(1) == \"queen\" or my_draw.item(1) == \"king\"):\n",
    "        result =  1\n",
    "    else:\n",
    "        result = 0\n",
    "    return(result)\n",
    "        \n",
    "draw_2_cards_v2()"
   ]
  },
  {
   "cell_type": "code",
   "execution_count": null,
   "id": "7aa5f4ff-b5c1-498d-8cb2-22c0c392a69d",
   "metadata": {},
   "outputs": [],
   "source": [
    "results_v2 = make_array()\n",
    "\n",
    "for i in np.arange(100000):\n",
    "    results_v2 = np.append(results_v2, draw_2_cards())\n",
    "    \n",
    "results_v2"
   ]
  },
  {
   "cell_type": "code",
   "execution_count": null,
   "id": "c779f67a-47f7-4a8c-8e61-cca4fb840cf6",
   "metadata": {},
   "outputs": [],
   "source": [
    "np.average(results_v2)"
   ]
  },
  {
   "cell_type": "code",
   "execution_count": null,
   "id": "56d6ec88-0546-4d60-b06a-f258e76e872c",
   "metadata": {},
   "outputs": [],
   "source": [
    "## can also calculate this based on probability rules, back to slides"
   ]
  },
  {
   "cell_type": "markdown",
   "id": "c7753ca3-205d-46ab-941a-f8227fcc6d62",
   "metadata": {},
   "source": [
    "## Coin toss"
   ]
  },
  {
   "cell_type": "code",
   "execution_count": null,
   "id": "5590b100-42fe-4649-aebb-031fffaace83",
   "metadata": {},
   "outputs": [],
   "source": [
    "coin = make_array(\"heads\", \"tails\")"
   ]
  },
  {
   "cell_type": "code",
   "execution_count": null,
   "id": "c28566f8-0be6-48f4-a2db-fe90ad846073",
   "metadata": {},
   "outputs": [],
   "source": [
    "np.random.choice(coin, 3)"
   ]
  },
  {
   "cell_type": "code",
   "execution_count": null,
   "id": "076c8f93-2a26-40de-9f02-1158c0487690",
   "metadata": {},
   "outputs": [],
   "source": [
    "## class results \n",
    "\n",
    "## one heads\n",
    "## two heads\n",
    "## 3 heads\n",
    "## no heads"
   ]
  },
  {
   "cell_type": "code",
   "execution_count": null,
   "id": "fc3fa987-0419-4c7a-b3d6-fb4862ee9595",
   "metadata": {},
   "outputs": [],
   "source": [
    "def flip3coins():\n",
    "    flip = np.random.choice(coin, 3)\n",
    "    if(flip.item(0) == \"heads\" or flip.item(1) == \"heads\" or flip.item(2) == \"heads\"):\n",
    "        result = 1\n",
    "    else:\n",
    "        result = 0\n",
    "    return(result)\n",
    "\n",
    "flip3coins()"
   ]
  },
  {
   "cell_type": "code",
   "execution_count": null,
   "id": "73ee4790-b9ae-4348-9cd8-7219be1e5213",
   "metadata": {},
   "outputs": [],
   "source": [
    "results_coins = make_array()\n",
    "\n",
    "for i in np.arange(100000):\n",
    "    results_coins = np.append(results_coins, flip3coins())\n",
    "    \n",
    "results_coins"
   ]
  },
  {
   "cell_type": "code",
   "execution_count": null,
   "id": "141f0f9a-f2be-4287-9545-97feb1fa4c8b",
   "metadata": {},
   "outputs": [],
   "source": [
    "np.average(results_coins)"
   ]
  },
  {
   "cell_type": "code",
   "execution_count": null,
   "id": "0f5e0055-3413-48f1-930c-d9a96e70ce25",
   "metadata": {},
   "outputs": [],
   "source": [
    "## There is a trick to doing this with probability rules, back to slides"
   ]
  }
 ],
 "metadata": {
  "kernelspec": {
   "display_name": "Python 3 (ipykernel)",
   "language": "python",
   "name": "python3"
  },
  "language_info": {
   "codemirror_mode": {
    "name": "ipython",
    "version": 3
   },
   "file_extension": ".py",
   "mimetype": "text/x-python",
   "name": "python",
   "nbconvert_exporter": "python",
   "pygments_lexer": "ipython3",
   "version": "3.10.6"
  }
 },
 "nbformat": 4,
 "nbformat_minor": 5
}
