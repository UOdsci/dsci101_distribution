{
 "cells": [
  {
   "cell_type": "code",
   "execution_count": null,
   "id": "c1ca263b-17eb-434c-b1fd-572f7d59dc05",
   "metadata": {},
   "outputs": [],
   "source": [
    "from datascience import *\n",
    "import numpy as np\n",
    "\n",
    "%matplotlib inline\n",
    "import matplotlib.pyplot as plots\n",
    "plots.style.use('fivethirtyeight')\n",
    "plots.rcParams[\"patch.force_edgecolor\"] = True\n",
    "\n",
    "path = 'https://github.com/oregon-data-science/DSCI101/raw/main/data/'\n",
    "\n",
    "'imports OK'"
   ]
  },
  {
   "cell_type": "markdown",
   "id": "c25c6245-6deb-49a8-9c7e-2503694e6c6f",
   "metadata": {},
   "source": [
    "## Visualizing categorical distributions with barcharts ##"
   ]
  },
  {
   "cell_type": "code",
   "execution_count": null,
   "id": "b2939966-7daf-4e86-bda9-b923516ffdc9",
   "metadata": {},
   "outputs": [],
   "source": [
    "# Highest grossing movies as of 2017\n",
    "top_movies = Table.read_table(path + 'top_movies_2017.csv')\n",
    "top_movies"
   ]
  },
  {
   "cell_type": "code",
   "execution_count": null,
   "id": "38395b4a-c575-4e2c-9298-277b70a18629",
   "metadata": {},
   "outputs": [],
   "source": [
    "## subset to the top 10, how? \n",
    "top_movies = top_movies.sort(\"Gross (Adjusted)\", descending=True)\n",
    "top_movies"
   ]
  },
  {
   "cell_type": "code",
   "execution_count": null,
   "id": "f4033910-d219-4e42-9a00-f749bb369ed4",
   "metadata": {},
   "outputs": [],
   "source": [
    "top10_adjusted = top_movies.take(np.arange(10))\n",
    "top10_adjusted"
   ]
  },
  {
   "cell_type": "code",
   "execution_count": null,
   "id": "0ff985ec-43db-451a-a1c1-0a95e3bab859",
   "metadata": {},
   "outputs": [],
   "source": [
    "# Convert to millions of dollars for readability, round\n",
    "millions = np.round(top10_adjusted.column('Gross (Adjusted)') / 1e6, 2)\n",
    "top10_adjusted = top10_adjusted.with_column('Millions', millions)\n",
    "top10_adjusted"
   ]
  },
  {
   "cell_type": "code",
   "execution_count": null,
   "id": "560a4f16-8eab-46ab-a184-1fecf9c99e84",
   "metadata": {},
   "outputs": [],
   "source": [
    "## Use a barchart, h stand for horizonal. It is easier to read the Titles this way. \n",
    "top10_adjusted.barh('Title', 'Millions')"
   ]
  },
  {
   "cell_type": "code",
   "execution_count": null,
   "id": "8a0491a8-1851-4a0b-af54-44e5fb470db0",
   "metadata": {},
   "outputs": [],
   "source": [
    "## back to slides"
   ]
  },
  {
   "cell_type": "code",
   "execution_count": null,
   "id": "78428fe4-772f-46e9-8497-8052e09fc1f3",
   "metadata": {},
   "outputs": [],
   "source": [
    "## What is we were interested in studios instead of individual movies. There are multiple rows of each studio.\n",
    "## Which studios produce the most top movies? \n",
    "studios = top_movies.select('Studio')\n",
    "studios"
   ]
  },
  {
   "cell_type": "code",
   "execution_count": null,
   "id": "687d75b5-079f-472a-99b4-3cd4a7033494",
   "metadata": {},
   "outputs": [],
   "source": [
    "## we can use a new funciton, group. studios.group('Studio')\n",
    "## .group adds a new column to your table with the label \"count\" which is the number of rows each studio appears in\n",
    "studio_distribution = ....\n",
    "studio_distribution"
   ]
  },
  {
   "cell_type": "code",
   "execution_count": null,
   "id": "b31b98fc-2f37-49db-a7b3-c0a2216ed649",
   "metadata": {},
   "outputs": [],
   "source": [
    "## sum the number of movies\n"
   ]
  },
  {
   "cell_type": "code",
   "execution_count": null,
   "id": "795ea49c-8db1-4ea0-9cbc-8e27af2fcdbf",
   "metadata": {},
   "outputs": [],
   "source": [
    "## should match the number of rows in the original dataset, WINNING!\n"
   ]
  },
  {
   "cell_type": "code",
   "execution_count": null,
   "id": "8f1e13d0-e40f-4839-840b-69d2088ba653",
   "metadata": {},
   "outputs": [],
   "source": [
    "## is a barchart the right option for visualizing the data?  barh('Studio')\n",
    "studio_distribution..."
   ]
  },
  {
   "cell_type": "code",
   "execution_count": null,
   "id": "fc3fd935-e34e-4fbd-adeb-e66a67c97551",
   "metadata": {},
   "outputs": [],
   "source": [
    "## what's not quite right about this chart? "
   ]
  },
  {
   "cell_type": "code",
   "execution_count": null,
   "id": "429c354b-0783-403e-b6ff-962d1fd8ddf4",
   "metadata": {},
   "outputs": [],
   "source": [
    "## a better option\n",
    "studio_distribution..."
   ]
  },
  {
   "cell_type": "code",
   "execution_count": null,
   "id": "e6ef35c2-0af9-4bad-ae1e-0c10d7befb53",
   "metadata": {},
   "outputs": [],
   "source": [
    "# Next question: What is the distribution of the ages of top grossing movies? "
   ]
  },
  {
   "cell_type": "markdown",
   "id": "1e4eef7b-a623-410d-90ce-323de5f92f2c",
   "metadata": {},
   "source": [
    "## Visualizing Numerical Distributions ##"
   ]
  },
  {
   "cell_type": "code",
   "execution_count": null,
   "id": "e457ae51-7d2f-4765-a502-4423cbad8cae",
   "metadata": {},
   "outputs": [],
   "source": [
    "## To find how old a movie is, this year - the year it was made.\n",
    "## Create an array called ages  2022 - top_movies.column('Year')\n",
    "ages = ...\n",
    "ages"
   ]
  },
  {
   "cell_type": "code",
   "execution_count": null,
   "id": "8914cac0-13b7-492e-919e-77d5d36f52c3",
   "metadata": {},
   "outputs": [],
   "source": [
    "## if you forget the column names... \n"
   ]
  },
  {
   "cell_type": "code",
   "execution_count": null,
   "id": "45362a79-7fe6-44c5-a6f1-14ede43eba59",
   "metadata": {},
   "outputs": [],
   "source": [
    "## add it to the table, use with_column, call the new column \"Age\"\n",
    "top_movies = ...\n",
    "top_movies.show(4)"
   ]
  },
  {
   "cell_type": "code",
   "execution_count": null,
   "id": "104212c1-eeb1-4f0a-9180-23f36ee4f417",
   "metadata": {},
   "outputs": [],
   "source": [
    "## How do we plot the distribution for these ages?"
   ]
  },
  {
   "cell_type": "code",
   "execution_count": null,
   "id": "52db861b-dc81-44c2-8e46-0784afe98252",
   "metadata": {},
   "outputs": [],
   "source": [
    "## this is the range... use max and min\n"
   ]
  },
  {
   "cell_type": "code",
   "execution_count": null,
   "id": "caa6c7d7-9118-4102-ba5d-6784b25e9373",
   "metadata": {},
   "outputs": [],
   "source": [
    "## back to lecture slides"
   ]
  },
  {
   "cell_type": "markdown",
   "id": "0069660b-3837-4fa6-adde-5c00a79c074f",
   "metadata": {},
   "source": [
    "## Binning numerical values"
   ]
  },
  {
   "cell_type": "code",
   "execution_count": null,
   "id": "1e31526e-bc60-4eb2-803b-8fba05f50213",
   "metadata": {},
   "outputs": [],
   "source": [
    "## bins are to numerical data, as categories are to categorical data. Bins should be of equal size.\n",
    "## start at zero go to? depends on bin size, let's start with 5\n",
    "my_bins = np.arange(...)\n",
    "my_bins"
   ]
  },
  {
   "cell_type": "code",
   "execution_count": null,
   "id": "92cfeba0-d5df-43e9-a0d3-5cc12cb73b8f",
   "metadata": {},
   "outputs": [],
   "source": [
    "## function for binning numerical data by a set bin lower bounds,  bin('Age', bins = my_bins)\n",
    "binned_data = top_movies...\n",
    "binned_data"
   ]
  },
  {
   "cell_type": "code",
   "execution_count": null,
   "id": "7fabac3e-ea81-4281-a684-b0c79de778a5",
   "metadata": {},
   "outputs": [],
   "source": [
    "## chech the number of bins is correct\n",
    "sum(binned_data.column('Age count'))"
   ]
  },
  {
   "cell_type": "code",
   "execution_count": null,
   "id": "58761bd3-1e02-4fa6-abb2-3702eaae9572",
   "metadata": {},
   "outputs": [],
   "source": [
    "## an option but not the best...\n",
    "binned_data.bar('bin')"
   ]
  },
  {
   "cell_type": "code",
   "execution_count": null,
   "id": "9476cdb9-0ac6-495e-aa14-56444994b00c",
   "metadata": {},
   "outputs": [],
   "source": [
    "## How could you calculate the percentage of movies in each of the age categories, and visualize that instead? "
   ]
  },
  {
   "cell_type": "code",
   "execution_count": null,
   "id": "e55b0a18-e2de-4e19-b6b9-653ebe0a0849",
   "metadata": {},
   "outputs": [],
   "source": [
    "binned_data "
   ]
  },
  {
   "cell_type": "code",
   "execution_count": null,
   "id": "66bbf974-e2d2-4eab-a9a0-9ac21eb7996b",
   "metadata": {},
   "outputs": [],
   "source": [
    "## make a new column with the percents in each age bin\n",
    "binned_data = binned_data.with_column(\n",
    "    \"Percent\", (binned_data.column(\"Age count\")/top_movies.num_rows) * 100\n",
    ")\n",
    "binned_data"
   ]
  },
  {
   "cell_type": "code",
   "execution_count": null,
   "id": "6868ba01-1452-4050-bcdb-4ef9d19dd67f",
   "metadata": {},
   "outputs": [],
   "source": [
    "## getting closer\n",
    "binned_data.bar('bin', 'Percent')"
   ]
  },
  {
   "cell_type": "code",
   "execution_count": null,
   "id": "b46a01c4-b14c-46d2-900f-5d2f76d4c3cf",
   "metadata": {},
   "outputs": [],
   "source": [
    "## Works, but a little deceptive if the bins were ever different sizes. "
   ]
  },
  {
   "cell_type": "code",
   "execution_count": null,
   "id": "0cb5b3e2-b03a-4ef1-a2f0-f991d13a7fca",
   "metadata": {},
   "outputs": [],
   "source": [
    "## back to lecture slides"
   ]
  },
  {
   "cell_type": "markdown",
   "id": "66566974-fee1-4642-83b7-77558dfdcf15",
   "metadata": {},
   "source": [
    "## Drawing histograms"
   ]
  },
  {
   "cell_type": "code",
   "execution_count": null,
   "id": "98910bd0-ace4-42ea-a324-307aed58b480",
   "metadata": {},
   "outputs": [],
   "source": [
    "## In histograms, the area of bars has meaning (unlike the barchart above)."
   ]
  },
  {
   "cell_type": "code",
   "execution_count": null,
   "id": "66100d08-38ad-47ae-85ed-8835122e8947",
   "metadata": {},
   "outputs": [],
   "source": [
    "## hist(\"Age\", bins=my_bins, unit=\"Year\")\n",
    "top_movies..."
   ]
  },
  {
   "cell_type": "code",
   "execution_count": null,
   "id": "ec5ab73e-2259-43db-b599-b17924b33c79",
   "metadata": {},
   "outputs": [],
   "source": [
    "## back to slides"
   ]
  },
  {
   "cell_type": "markdown",
   "id": "851b990e-ecf0-4c73-b020-1f3212e8f91a",
   "metadata": {},
   "source": [
    "## How to calculate height"
   ]
  },
  {
   "cell_type": "code",
   "execution_count": null,
   "id": "a81dfeeb-796f-4222-b80a-1d5ae3ed6be1",
   "metadata": {},
   "outputs": [],
   "source": [
    "actors = Table.read_table(path + 'actors.csv')\n",
    "actors"
   ]
  },
  {
   "cell_type": "code",
   "execution_count": null,
   "id": "981f06f1-2eb3-4e44-82cb-32a736680487",
   "metadata": {},
   "outputs": [],
   "source": [
    "min(actors.column(\"Number of Movies\")), max(actors.column(\"Number of Movies\"))"
   ]
  },
  {
   "cell_type": "code",
   "execution_count": null,
   "id": "a4bd2dbf-516b-405b-a2e4-e6d98bbb3a69",
   "metadata": {},
   "outputs": [],
   "source": [
    "my_bins = np.arange(0, 80, 10)\n",
    "my_bins"
   ]
  },
  {
   "cell_type": "code",
   "execution_count": null,
   "id": "448256d6-053f-43c0-9769-28995946309a",
   "metadata": {},
   "outputs": [],
   "source": [
    "actors.hist(\"Number of Movies\", bins=my_bins)"
   ]
  },
  {
   "cell_type": "code",
   "execution_count": null,
   "id": "4276c725-9ce0-4045-8562-b4a6dbd5e875",
   "metadata": {},
   "outputs": [],
   "source": [
    "binned_actors = actors.bin('Number of Movies', bins = my_bins)\n",
    "binned_actors"
   ]
  },
  {
   "cell_type": "code",
   "execution_count": null,
   "id": "163e1eb5-7eca-46c4-a2e2-97033bba763d",
   "metadata": {},
   "outputs": [],
   "source": [
    "binned_actors = binned_actors.with_column(\n",
    "    \"Percent\", (binned_actors.column(\"Number of Movies count\")/actors.num_rows) * 100\n",
    ")\n",
    "binned_actors"
   ]
  },
  {
   "cell_type": "code",
   "execution_count": null,
   "id": "8b028b7f-8c8b-49cc-a847-66651c84ad67",
   "metadata": {},
   "outputs": [],
   "source": [
    "binned_actors = binned_actors.with_column(\n",
    "    \"Hist height\", (binned_actors.column(\"Percent\")/10)\n",
    ")\n",
    "binned_actors"
   ]
  },
  {
   "cell_type": "code",
   "execution_count": null,
   "id": "0355abda-a4ed-46b5-9a15-d04d8eeb33a0",
   "metadata": {},
   "outputs": [],
   "source": []
  }
 ],
 "metadata": {
  "kernelspec": {
   "display_name": "Python 3 (ipykernel)",
   "language": "python",
   "name": "python3"
  },
  "language_info": {
   "codemirror_mode": {
    "name": "ipython",
    "version": 3
   },
   "file_extension": ".py",
   "mimetype": "text/x-python",
   "name": "python",
   "nbconvert_exporter": "python",
   "pygments_lexer": "ipython3",
   "version": "3.10.6"
  }
 },
 "nbformat": 4,
 "nbformat_minor": 5
}
